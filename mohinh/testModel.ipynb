{
 "cells": [
  {
   "cell_type": "code",
   "execution_count": 10,
   "metadata": {},
   "outputs": [],
   "source": [
    "from keras.models import load_model\n",
    "from gensim.models import KeyedVectors\n",
    "import numpy as np\n",
    "import re\n",
    "from emot.emo_unicode import UNICODE_EMOJI, EMOTICONS_EMO\n",
    "from underthesea import word_tokenize\n",
    "\n"
   ]
  },
  {
   "cell_type": "code",
   "execution_count": 11,
   "metadata": {},
   "outputs": [
    {
     "name": "stderr",
     "output_type": "stream",
     "text": [
      "WARNING:absl:Compiled the loaded model, but the compiled metrics have yet to be built. `model.compile_metrics` will be empty until you train or evaluate the model.\n"
     ]
    },
    {
     "name": "stdout",
     "output_type": "stream",
     "text": [
      "Sentiment model loaded successfully!\n"
     ]
    }
   ],
   "source": [
    "# Load mô hình CNN đã huấn luyện\n",
    "model_sentiment = load_model(\"models.h5\")\n",
    "print(\"Sentiment model loaded successfully!\")\n"
   ]
  },
  {
   "cell_type": "code",
   "execution_count": 12,
   "metadata": {},
   "outputs": [
    {
     "name": "stdout",
     "output_type": "stream",
     "text": [
      "Embedding model loaded successfully!\n"
     ]
    }
   ],
   "source": [
    "file_path = 'baomoi.model.bin'\n",
    "try:\n",
    "    model_embedding = KeyedVectors.load_word2vec_format(file_path, binary=True)\n",
    "    print(\"Embedding model loaded successfully!\")\n",
    "except Exception as e:\n",
    "    print(f\"Error loading embedding model: {e}\")\n"
   ]
  },
  {
   "cell_type": "code",
   "execution_count": 13,
   "metadata": {},
   "outputs": [],
   "source": [
    "word_labels = list(model_embedding.key_to_index.keys())\n",
    "max_seq = 100  \n",
    "embedding_size = 400\n",
    "\n",
    "def comment_embedding(comment):\n",
    "    matrix = np.zeros((max_seq, embedding_size))\n",
    "    words = comment.split()\n",
    "    for i in range(min(len(words), max_seq)):\n",
    "        word = words[i]\n",
    "        if word in word_labels:\n",
    "            matrix[i] = model_embedding[word]\n",
    "    return matrix\n"
   ]
  },
  {
   "cell_type": "code",
   "execution_count": 14,
   "metadata": {},
   "outputs": [],
   "source": [
    "\n",
    "def remove_emoji(text):\n",
    "    for emoji in UNICODE_EMOJI.values():\n",
    "        text = text.replace(emoji, \"\")\n",
    "    for emoticon in EMOTICONS_EMO.values():\n",
    "        text = text.replace(emoticon, \"\")\n",
    "    return text\n",
    "\n",
    "def clean_text(text):\n",
    "    text = text.lower()\n",
    "    text = remove_emoji(text) \n",
    "    text = re.sub(r'\\d+', ' ', text)  \n",
    "    text = re.sub(r'[^\\w\\s]', ' ', text)  \n",
    "    text = re.sub(r'\\s+', ' ', text).strip()  \n",
    "    \n",
    "    words = word_tokenize(text, format=\"text\")\n",
    "    return words\n",
    "\n",
    "def preprocess_data(text):\n",
    "    text = clean_text(text)  \n",
    "    return text\n"
   ]
  },
  {
   "cell_type": "markdown",
   "metadata": {},
   "source": [
    "0: Negative, 1: Neutral, 2: Positive"
   ]
  },
  {
   "cell_type": "code",
   "execution_count": null,
   "metadata": {},
   "outputs": [
    {
     "name": "stdout",
     "output_type": "stream",
     "text": [
      "\u001b[1m1/1\u001b[0m \u001b[32m━━━━━━━━━━━━━━━━━━━━\u001b[0m\u001b[37m\u001b[0m \u001b[1m0s\u001b[0m 71ms/step\n",
      "Label predict: 0\n"
     ]
    }
   ],
   "source": [
    "text = \"Hihi haha\"\n",
    "text_cleaned = preprocess_data(text)\n",
    "\n",
    "matrix_embedding = np.expand_dims(comment_embedding(text_cleaned), axis=0)\n",
    "matrix_embedding = np.expand_dims(matrix_embedding, axis=3)\n",
    "\n",
    "result = model_sentiment.predict(matrix_embedding)\n",
    "result_label = np.argmax(result)  \n",
    "\n",
    "print(\"Label predict:\", result_label)"
   ]
  }
 ],
 "metadata": {
  "kernelspec": {
   "display_name": "Python 3",
   "language": "python",
   "name": "python3"
  },
  "language_info": {
   "codemirror_mode": {
    "name": "ipython",
    "version": 3
   },
   "file_extension": ".py",
   "mimetype": "text/x-python",
   "name": "python",
   "nbconvert_exporter": "python",
   "pygments_lexer": "ipython3",
   "version": "3.11.2"
  }
 },
 "nbformat": 4,
 "nbformat_minor": 2
}
